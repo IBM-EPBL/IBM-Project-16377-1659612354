{
 "cells": [
  {
   "cell_type": "code",
   "execution_count": null,
   "id": "27903054-69b0-42b1-a737-18e5a267c1d3",
   "metadata": {},
   "outputs": [],
   "source": [
    "import numpy as np #used for numerical analysis\n",
    "import tensorflow #open source used for both ML and DL for computatio\n",
    "from tensorflow.keras.models import Sequential #it is a palin stack of layer \n",
    "from tensorflow.keras.layers import Layer #Alayer consists of a tensor-in tensor-out computation function\n",
    "from tensorflow.keras.layers import Dense,Flatten #flattening the input or change the dimension\n",
    "from tensorflow.keras.layers import Conv2D,MaxPooling2D,Dropout #convolution layer , MaxPooling2D-for downsampling the image\n",
    "from keras.preprocessing.image import ImageDataGenerator"
   ]
  },
  {
   "cell_type": "code",
   "execution_count": null,
   "id": "28603176-a31e-4e6e-9e1e-8c76071dd234",
   "metadata": {},
   "outputs": [],
   "source": []
  },
  {
   "cell_type": "code",
   "execution_count": null,
   "id": "bb546c23-2111-4bc7-b979-f7f1cd90df60",
   "metadata": {},
   "outputs": [],
   "source": []
  },
  {
   "cell_type": "code",
   "execution_count": null,
   "id": "e3c6403b-65df-4519-b032-659a2e5a76ef",
   "metadata": {},
   "outputs": [],
   "source": []
  },
  {
   "cell_type": "code",
   "execution_count": null,
   "id": "57866bb3-81ce-499c-9362-42f2299cb6a2",
   "metadata": {},
   "outputs": [],
   "source": []
  },
  {
   "cell_type": "code",
   "execution_count": null,
   "id": "b41f8ede-a898-4efd-a13e-7c54f3d1daac",
   "metadata": {},
   "outputs": [],
   "source": []
  },
  {
   "cell_type": "code",
   "execution_count": null,
   "id": "a0a1ad08-cbc0-45f2-bd35-44dbc7423c03",
   "metadata": {},
   "outputs": [],
   "source": []
  }
 ],
 "metadata": {
  "kernelspec": {
   "display_name": "Python 3 (ipykernel)",
   "language": "python",
   "name": "python3"
  },
  "language_info": {
   "codemirror_mode": {
    "name": "ipython",
    "version": 3
   },
   "file_extension": ".py",
   "mimetype": "text/x-python",
   "name": "python",
   "nbconvert_exporter": "python",
   "pygments_lexer": "ipython3",
   "version": "3.9.13"
  }
 },
 "nbformat": 4,
 "nbformat_minor": 5
}
