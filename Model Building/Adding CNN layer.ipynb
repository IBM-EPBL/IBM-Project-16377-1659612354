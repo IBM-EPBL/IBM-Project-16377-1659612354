{
 "cells": [
  {
   "cell_type": "code",
   "execution_count": null,
   "id": "db46c148-d3dd-483e-972b-72cfb3bbeb4c",
   "metadata": {},
   "outputs": [],
   "source": [
    "import numpy as np #used for numerical analysis\n",
    "import tensorflow #open source used for both ML and DL for computatio\n",
    "from tensorflow.keras.models import Sequential #it is a palin stack of layer \n",
    "from tensorflow.keras.layers import Layer #Alayer consists of a tensor-in tensor-out computation function\n",
    "from tensorflow.keras.layers import Dense,Flatten #flattening the input or change the dimension\n",
    "from tensorflow.keras.layers import Conv2D,MaxPooling2D,Dropout #convolution layer , MaxPooling2D-for downsampling the image\n",
    "from keras.preprocessing.image import ImageDataGenerator"
   ]
  },
  {
   "cell_type": "code",
   "execution_count": null,
   "id": "8809dede-4254-46ef-9366-55f4fbc3d2cc",
   "metadata": {},
   "outputs": [],
   "source": [
    "model=Sequential()"
   ]
  },
  {
   "cell_type": "code",
   "execution_count": null,
   "id": "338d6ccd-40b7-494a-b04c-cfb7a852b3bc",
   "metadata": {},
   "outputs": [],
   "source": [
    "model.add(Conv2D(32,(3,3),input_shape=(64,64,3),activation='relu'))"
   ]
  },
  {
   "cell_type": "code",
   "execution_count": null,
   "id": "d574ad5e-0e4b-4f9e-ac26-18cab2905097",
   "metadata": {},
   "outputs": [],
   "source": [
    "model.add(MaxPooling2D(pool_size =(2,2)))"
   ]
  },
  {
   "cell_type": "code",
   "execution_count": null,
   "id": "558cb5e5-037f-4dea-bdca-ac517b820631",
   "metadata": {},
   "outputs": [],
   "source": [
    "model.add(Conv2D(32,(3,3),activation='relu'))\n",
    "model.add(MaxPooling2D(pool_size =(2,2)))\n",
    "model.add(Flatten())"
   ]
  }
 ],
 "metadata": {
  "kernelspec": {
   "display_name": "Python 3 (ipykernel)",
   "language": "python",
   "name": "python3"
  },
  "language_info": {
   "codemirror_mode": {
    "name": "ipython",
    "version": 3
   },
   "file_extension": ".py",
   "mimetype": "text/x-python",
   "name": "python",
   "nbconvert_exporter": "python",
   "pygments_lexer": "ipython3",
   "version": "3.9.13"
  }
 },
 "nbformat": 4,
 "nbformat_minor": 5
}
